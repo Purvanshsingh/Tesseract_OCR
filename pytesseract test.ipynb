{
 "cells": [
  {
   "cell_type": "code",
   "execution_count": 39,
   "metadata": {},
   "outputs": [],
   "source": [
    "import pytesseract\n",
    "from PIL import Image"
   ]
  },
  {
   "cell_type": "code",
   "execution_count": 44,
   "metadata": {},
   "outputs": [],
   "source": [
    "invoice_1 = Image.open(\"test (1).jpg\")\n",
    "invoice.show()"
   ]
  },
  {
   "cell_type": "code",
   "execution_count": 41,
   "metadata": {},
   "outputs": [],
   "source": [
    "pytesseract.pytesseract.tesseract_cmd = r'C:\\Users\\lenovo\\AppData\\Local\\Programs\\Tesseract-OCR\\tesseract.exe'"
   ]
  },
  {
   "cell_type": "code",
   "execution_count": 42,
   "metadata": {},
   "outputs": [],
   "source": [
    "text = pytesseract.image_to_string(invoice)"
   ]
  },
  {
   "cell_type": "code",
   "execution_count": 43,
   "metadata": {},
   "outputs": [
    {
     "name": "stdout",
     "output_type": "stream",
     "text": [
      "—sw\n",
      "Katana Sushi\n",
      "2816 Hewitt Ave\n",
      "Everett, WA 96201\n",
      "425-512-9361\n",
      "HAA KAA K\n",
      "\n",
      "Server: Michael C\n",
      "05/11/16 6:47 PH\n",
      "\n",
      "Check #93 Table D2\n",
      "Hamachi Collar $12.00\n",
      "Mega Poke Bowl $17.00\n",
      "Hamachi - Sashimi $12.00\n",
      "Maguro - Sashimi $11.00\n",
      "Salmon - Sashimi $10.00\n",
      "3 Sockeye Salmon - Sashimi\n",
      "$36.00\n",
      "Hamachi Japapeno $12.00\n",
      "Salmon Collar $10.00\n",
      "Escolar - Sashimi $11.00\n",
      "Subtotal $131.00\n",
      "Tax $12.71\n",
      "Total $143.71\n",
      "\n",
      "FER RK KK OK I5%, a\n",
      "\n",
      "Thank You for your visit.\n",
      "\f",
      "\n"
     ]
    }
   ],
   "source": [
    "print(text)"
   ]
  },
  {
   "cell_type": "code",
   "execution_count": 49,
   "metadata": {},
   "outputs": [
    {
     "name": "stdout",
     "output_type": "stream",
     "text": [
      "Dona Mercedes Restaurant\n",
      "1030 1/2 San Fernando Rd\n",
      "San Fernando CA 91341\n",
      "\n",
      "Vero\n",
      "CENTERL\n",
      "\n",
      "1 CHicharon $2:25\n",
      "3 Pupusa Queso $6.75\n",
      "1 Platanos Orden 577.5)\n",
      "1 Diet coke $1.50\n",
      "2 Quesadilla salvadorena $4.00\n",
      "\n",
      "SUBTOTAL: $22.25\n",
      "TAX: $2.22\n",
      "\n",
      "TOTAL: $24.47\n",
      "TIP SUGGESTIONS\n",
      "18%: $4.40\n",
      "\n",
      "20%: $4.89\n",
      "25%: $6.12\n",
      "\n",
      "Thank You!\n",
      "\n",
      " \n",
      "\f",
      "\n"
     ]
    }
   ],
   "source": [
    "invoice = Image.open(\"test (2).jpg\")\n",
    "invoice.show()\n",
    "print(pytesseract.image_to_string(invoice))"
   ]
  },
  {
   "cell_type": "code",
   "execution_count": 53,
   "metadata": {},
   "outputs": [
    {
     "name": "stdout",
     "output_type": "stream",
     "text": [
      " \n",
      "\f",
      "\n"
     ]
    }
   ],
   "source": [
    "invoice_5 = Image.open(\"test (5).jpg\")\n",
    "invoice_5.show()\n",
    "print(pytesseract.image_to_string(invoice_5))"
   ]
  },
  {
   "cell_type": "code",
   "execution_count": 55,
   "metadata": {},
   "outputs": [
    {
     "name": "stdout",
     "output_type": "stream",
     "text": [
      "SubTotal\n",
      "Tax\n",
      "\n",
      "Total\n",
      "\n",
      "Visa\n",
      "\n",
      "Acct kXWKKKK2076,\n",
      "\n",
      "Approval ;\n",
      "\n",
      " \n",
      "\n",
      "   \n",
      " \n",
      "\n",
      "MOBILE\n",
      "ORDERING\n",
      "\n",
      "IS HERE\n",
      "\n",
      "DOWNLOAD THE APP\n",
      "\n",
      "   \n",
      "  \n",
      "\n",
      "$8 pp) 8 PVE BO AVY\n",
      "\f",
      "\n"
     ]
    }
   ],
   "source": [
    "invoice_6 = Image.open(\"test (6).jpg\")\n",
    "invoice_6.show()\n",
    "print(pytesseract.image_to_string(invoice_6))"
   ]
  },
  {
   "cell_type": "code",
   "execution_count": 54,
   "metadata": {},
   "outputs": [
    {
     "name": "stdout",
     "output_type": "stream",
     "text": [
      " \n",
      "\f",
      "\n"
     ]
    }
   ],
   "source": [
    "invoice_7 = Image.open(\"test (7).jpg\")\n",
    "invoice_7.show()\n",
    "print(pytesseract.image_to_string(invoice_7))"
   ]
  },
  {
   "cell_type": "code",
   "execution_count": 56,
   "metadata": {},
   "outputs": [
    {
     "name": "stdout",
     "output_type": "stream",
     "text": [
      "Akira\n",
      "\n",
      "sree ase\n",
      "\n",
      "  \n",
      "\n",
      "#87 PICK\n",
      "\n",
      "    \n",
      "    \n",
      "\n",
      "FiChk Steet “a2\n",
      "Mos\n",
      "\n",
      "Neodte\n",
      "Sushi Deluxe\n",
      "Slenmont Rot\n",
      "Ply R\n",
      "\n",
      "2 SpTunak\n",
      "L_ Salmon\n",
      "\n",
      "32075,\n",
      "S155\n",
      "\n",
      " \n",
      "\n",
      " \n",
      "\n",
      "Tot: oof\n",
      "Unpaid =\n",
      "\n",
      " \n",
      "\f",
      "\n"
     ]
    }
   ],
   "source": [
    "invoice_10 = Image.open(\"test (10).jpg\")\n",
    "invoice_10.show()\n",
    "print(pytesseract.image_to_string(invoice_10))"
   ]
  },
  {
   "cell_type": "code",
   "execution_count": null,
   "metadata": {},
   "outputs": [],
   "source": [
    "5\n",
    "6\n",
    "7\n",
    "10"
   ]
  }
 ],
 "metadata": {
  "kernelspec": {
   "display_name": "Python 3",
   "language": "python",
   "name": "python3"
  },
  "language_info": {
   "codemirror_mode": {
    "name": "ipython",
    "version": 3
   },
   "file_extension": ".py",
   "mimetype": "text/x-python",
   "name": "python",
   "nbconvert_exporter": "python",
   "pygments_lexer": "ipython3",
   "version": "3.6.12"
  }
 },
 "nbformat": 4,
 "nbformat_minor": 4
}
